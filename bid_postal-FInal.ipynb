{
 "cells": [
  {
   "cell_type": "code",
   "execution_count": 3,
   "metadata": {},
   "outputs": [],
   "source": [
    "# 1. import csv  library\n",
    "import csv\n",
    "import pandas as pd"
   ]
  },
  {
   "cell_type": "code",
   "execution_count": 5,
   "metadata": {},
   "outputs": [],
   "source": [
    "# RW\n",
    "# . How to open a file and read into pandas dataframe\n",
    "\n",
    "with open(\"C:/Users/Ahmed/Documents/A_DrNoman/Bid_postal/TAXRATES_ZIP5/TAXRATES_ZIP5_ID201903.csv\",\"r\") as f_obj1:\n",
    "    data1=pd.read_csv(f_obj1)\n",
    "    "
   ]
  },
  {
   "cell_type": "code",
   "execution_count": 8,
   "metadata": {},
   "outputs": [
    {
     "name": "stdout",
     "output_type": "stream",
     "text": [
      "<class 'pandas.core.frame.DataFrame'>\n",
      "RangeIndex: 318 entries, 0 to 317\n",
      "Data columns (total 9 columns):\n",
      "State                    318 non-null object\n",
      "ZipCode                  318 non-null int64\n",
      "TaxRegionName            318 non-null object\n",
      "StateRate                318 non-null float64\n",
      "EstimatedCombinedRate    318 non-null float64\n",
      "EstimatedCountyRate      318 non-null float64\n",
      "EstimatedCityRate        318 non-null float64\n",
      "EstimatedSpecialRate     318 non-null float64\n",
      "RiskLevel                318 non-null int64\n",
      "dtypes: float64(5), int64(2), object(2)\n",
      "memory usage: 22.4+ KB\n"
     ]
    }
   ],
   "source": [
    "data1.info()"
   ]
  },
  {
   "cell_type": "code",
   "execution_count": 10,
   "metadata": {},
   "outputs": [],
   "source": [
    "with open(\"C:/Users/Ahmed/Documents/A_DrNoman/Bid_postal/TAXRATES_ZIP5/TAXRATES_ZIP5_AL201903.csv\",\"r\") as f_obj2:\n",
    "    data2=pd.read_csv(f_obj2)"
   ]
  },
  {
   "cell_type": "code",
   "execution_count": 11,
   "metadata": {},
   "outputs": [
    {
     "name": "stdout",
     "output_type": "stream",
     "text": [
      "<class 'pandas.core.frame.DataFrame'>\n",
      "RangeIndex: 809 entries, 0 to 808\n",
      "Data columns (total 9 columns):\n",
      "State                    809 non-null object\n",
      "ZipCode                  809 non-null int64\n",
      "TaxRegionName            809 non-null object\n",
      "StateRate                809 non-null float64\n",
      "EstimatedCombinedRate    809 non-null float64\n",
      "EstimatedCountyRate      809 non-null float64\n",
      "EstimatedCityRate        809 non-null float64\n",
      "EstimatedSpecialRate     809 non-null float64\n",
      "RiskLevel                809 non-null int64\n",
      "dtypes: float64(5), int64(2), object(2)\n",
      "memory usage: 57.0+ KB\n"
     ]
    }
   ],
   "source": [
    "data2.info()"
   ]
  },
  {
   "cell_type": "code",
   "execution_count": 14,
   "metadata": {},
   "outputs": [],
   "source": [
    "#  combining two dataframes to one\n",
    "\n",
    "d=pd.concat([data1,data2])\n"
   ]
  },
  {
   "cell_type": "code",
   "execution_count": null,
   "metadata": {},
   "outputs": [],
   "source": []
  },
  {
   "cell_type": "code",
   "execution_count": 8,
   "metadata": {},
   "outputs": [],
   "source": [
    "d.to_csv('d.csv')"
   ]
  },
  {
   "cell_type": "code",
   "execution_count": 15,
   "metadata": {},
   "outputs": [
    {
     "name": "stdout",
     "output_type": "stream",
     "text": [
      "<class 'pandas.core.frame.DataFrame'>\n",
      "Int64Index: 1127 entries, 0 to 808\n",
      "Data columns (total 9 columns):\n",
      "State                    1127 non-null object\n",
      "ZipCode                  1127 non-null int64\n",
      "TaxRegionName            1127 non-null object\n",
      "StateRate                1127 non-null float64\n",
      "EstimatedCombinedRate    1127 non-null float64\n",
      "EstimatedCountyRate      1127 non-null float64\n",
      "EstimatedCityRate        1127 non-null float64\n",
      "EstimatedSpecialRate     1127 non-null float64\n",
      "RiskLevel                1127 non-null int64\n",
      "dtypes: float64(5), int64(2), object(2)\n",
      "memory usage: 88.0+ KB\n"
     ]
    }
   ],
   "source": [
    "d.info()"
   ]
  },
  {
   "cell_type": "markdown",
   "metadata": {},
   "source": [
    "## List of names of all the files"
   ]
  },
  {
   "cell_type": "code",
   "execution_count": 28,
   "metadata": {},
   "outputs": [],
   "source": [
    "List_fileName=[\n",
    "'TAXRATES_ZIP5_AK201903.csv',\n",
    "'TAXRATES_ZIP5_AL201903.csv',\n",
    "'TAXRATES_ZIP5_AR201903.csv',\n",
    "'TAXRATES_ZIP5_AZ201903.csv',\n",
    "'TAXRATES_ZIP5_CA201903.csv',\n",
    "'TAXRATES_ZIP5_CO201903.csv',\n",
    "'TAXRATES_ZIP5_CT201903.csv',\n",
    "'TAXRATES_ZIP5_DC201903.csv',\n",
    "'TAXRATES_ZIP5_DE201903.csv',\n",
    "'TAXRATES_ZIP5_FL201903.csv',\n",
    "'TAXRATES_ZIP5_GA201903.csv',\n",
    "'TAXRATES_ZIP5_HI201903.csv',\n",
    "'TAXRATES_ZIP5_IA201903.csv',\n",
    "'TAXRATES_ZIP5_ID201903.csv',\n",
    "'TAXRATES_ZIP5_IL201903.csv',\n",
    "'TAXRATES_ZIP5_IN201903.csv',\n",
    "'TAXRATES_ZIP5_KS201903.csv',\n",
    "'TAXRATES_ZIP5_KY201903.csv',\n",
    "'TAXRATES_ZIP5_LA201903.csv',\n",
    "'TAXRATES_ZIP5_MA201903.csv',\n",
    "'TAXRATES_ZIP5_MD201903.csv',\n",
    "'TAXRATES_ZIP5_ME201903.csv',\n",
    "'TAXRATES_ZIP5_MI201903.csv',\n",
    "'TAXRATES_ZIP5_MN201903.csv',\n",
    "'TAXRATES_ZIP5_MO201903.csv',\n",
    "'TAXRATES_ZIP5_MS201903.csv',\n",
    "'TAXRATES_ZIP5_MT201903.csv',\n",
    "'TAXRATES_ZIP5_NC201903.csv',\n",
    "'TAXRATES_ZIP5_ND201903.csv',\n",
    "'TAXRATES_ZIP5_NE201903.csv',\n",
    "'TAXRATES_ZIP5_NH201903.csv',\n",
    "'TAXRATES_ZIP5_NJ201903.csv',\n",
    "'TAXRATES_ZIP5_NM201903.csv',\n",
    "'TAXRATES_ZIP5_NV201903.csv',\n",
    "'TAXRATES_ZIP5_NY201903.csv',\n",
    "'TAXRATES_ZIP5_OH201903.csv',\n",
    "'TAXRATES_ZIP5_OK201903.csv',\n",
    "'TAXRATES_ZIP5_OR201903.csv',\n",
    "'TAXRATES_ZIP5_PA201903.csv',\n",
    "'TAXRATES_ZIP5_PR201903.csv',\n",
    "'TAXRATES_ZIP5_RI201903.csv',\n",
    "'TAXRATES_ZIP5_SC201903.csv',\n",
    "'TAXRATES_ZIP5_SD201903.csv',\n",
    "'TAXRATES_ZIP5_TN201903.csv',\n",
    "'TAXRATES_ZIP5_TX201903.csv',\n",
    "'TAXRATES_ZIP5_UT201903.csv',\n",
    "'TAXRATES_ZIP5_VA201903.csv',\n",
    "'TAXRATES_ZIP5_VT201903.csv',\n",
    "'TAXRATES_ZIP5_WA201903.csv',\n",
    "'TAXRATES_ZIP5_WI201903.csv',\n",
    "'TAXRATES_ZIP5_WV201903.csv',\n",
    "'TAXRATES_ZIP5_WY201903.csv']"
   ]
  },
  {
   "cell_type": "code",
   "execution_count": 29,
   "metadata": {},
   "outputs": [
    {
     "data": {
      "text/plain": [
       "52"
      ]
     },
     "execution_count": 29,
     "metadata": {},
     "output_type": "execute_result"
    }
   ],
   "source": [
    "len(List_fileName)"
   ]
  },
  {
   "cell_type": "code",
   "execution_count": 39,
   "metadata": {},
   "outputs": [],
   "source": [
    "# generate a list of variable-name for 52 data frame numbered as  dfn1,dfn2,dfn3,....\n",
    "\n",
    "l2=[]\n",
    "def df_gen(s=1,n=53):        # s:starting point =1\n",
    "#     globals()l2=[]\n",
    "    for i in range(s,n):\n",
    "        k=\"dfn\"+str(i)\n",
    "        l2.append(k)\n",
    "\n",
    "#calling function to generate the list of variable for\n",
    "df_gen()"
   ]
  },
  {
   "cell_type": "code",
   "execution_count": 31,
   "metadata": {},
   "outputs": [
    {
     "name": "stdout",
     "output_type": "stream",
     "text": [
      "['dfn1', 'dfn2', 'dfn3', 'dfn4', 'dfn5', 'dfn6', 'dfn7', 'dfn8', 'dfn9', 'dfn10', 'dfn11', 'dfn12', 'dfn13', 'dfn14', 'dfn15', 'dfn16', 'dfn17', 'dfn18', 'dfn19', 'dfn20', 'dfn21', 'dfn22', 'dfn23', 'dfn24', 'dfn25', 'dfn26', 'dfn27', 'dfn28', 'dfn29', 'dfn30', 'dfn31', 'dfn32', 'dfn33', 'dfn34', 'dfn35', 'dfn36', 'dfn37', 'dfn38', 'dfn39', 'dfn40', 'dfn41', 'dfn42', 'dfn43', 'dfn44', 'dfn45', 'dfn46', 'dfn47', 'dfn48', 'dfn49', 'dfn50', 'dfn51', 'dfn52']\n"
     ]
    }
   ],
   "source": [
    "print(l2)"
   ]
  },
  {
   "cell_type": "markdown",
   "metadata": {},
   "source": [
    "#### the above list of variable name in L2 can't be used to iterate over and assign them values(like dictionary)"
   ]
  },
  {
   "cell_type": "code",
   "execution_count": 65,
   "metadata": {},
   "outputs": [],
   "source": [
    "# funtion for  generating global enumerated variable from list(l2 containing varaible names for df ) and \n",
    "# assign the the elements of l2 to the generated varable\n",
    "\n",
    "def gen_enum():\n",
    "    for n, val in enumerate(l2,start=1):\n",
    "        globals()[\"df%d\"%n] = val                 # string formating used here %d would be replaced by %n \n",
    "#         print(   [\"df%d\"%n])                      # just for testing : we print our farmatted string \n",
    "\n",
    "gen_enum()"
   ]
  },
  {
   "cell_type": "code",
   "execution_count": 55,
   "metadata": {},
   "outputs": [],
   "source": [
    "# This routine opens (one by one) a file  in directory read the csv  and loads in a pandas dataframe\n",
    "\n",
    "count=0\n",
    "f='0'\n",
    "dfn=\"df\"\n",
    "# print(l1)\n",
    "        \n",
    "for i,v in enumerate(List_fileName,start=1):   # i is the number generated and v is corresponding element of list\n",
    "    count+=1\n",
    "    filename=\"C:/Users/Ahmed/Documents/A_DrNoman/Bid_postal/TAXRATES_ZIP5/\"+v            # file name of each file will be combined with  file path  folder\n",
    "    fileobj=\"f_obj\"+str(i)                       # fileobj variable is also created coresponding every new file\n",
    "    f=\"f\"+str(i)                                 # creating a variable on each iteration\n",
    "    \n",
    "        \n",
    "    with open(filename,\"r\") as fileobj:          # opening file name in read mode one by one\n",
    "        l2[i-1]=pd.read_csv(fileobj)             # load the read file to coresponding data frame,\n",
    "                                                 #(i-1 ) is used because indexing of elements in list starts from 0\n",
    "        \n",
    "    \n",
    " \n",
    "    \n"
   ]
  },
  {
   "cell_type": "code",
   "execution_count": 56,
   "metadata": {},
   "outputs": [
    {
     "data": {
      "text/html": [
       "<div>\n",
       "<style scoped>\n",
       "    .dataframe tbody tr th:only-of-type {\n",
       "        vertical-align: middle;\n",
       "    }\n",
       "\n",
       "    .dataframe tbody tr th {\n",
       "        vertical-align: top;\n",
       "    }\n",
       "\n",
       "    .dataframe thead th {\n",
       "        text-align: right;\n",
       "    }\n",
       "</style>\n",
       "<table border=\"1\" class=\"dataframe\">\n",
       "  <thead>\n",
       "    <tr style=\"text-align: right;\">\n",
       "      <th></th>\n",
       "      <th>ZipCode</th>\n",
       "      <th>StateRate</th>\n",
       "      <th>EstimatedCombinedRate</th>\n",
       "      <th>EstimatedCountyRate</th>\n",
       "      <th>EstimatedCityRate</th>\n",
       "      <th>EstimatedSpecialRate</th>\n",
       "      <th>RiskLevel</th>\n",
       "    </tr>\n",
       "  </thead>\n",
       "  <tbody>\n",
       "    <tr>\n",
       "      <th>count</th>\n",
       "      <td>193.000000</td>\n",
       "      <td>1.930000e+02</td>\n",
       "      <td>193.000000</td>\n",
       "      <td>193.000000</td>\n",
       "      <td>193.0</td>\n",
       "      <td>193.0</td>\n",
       "      <td>193.000000</td>\n",
       "    </tr>\n",
       "    <tr>\n",
       "      <th>mean</th>\n",
       "      <td>82572.202073</td>\n",
       "      <td>4.000000e-02</td>\n",
       "      <td>0.053433</td>\n",
       "      <td>0.013433</td>\n",
       "      <td>0.0</td>\n",
       "      <td>0.0</td>\n",
       "      <td>1.606218</td>\n",
       "    </tr>\n",
       "    <tr>\n",
       "      <th>std</th>\n",
       "      <td>345.878931</td>\n",
       "      <td>2.782776e-17</td>\n",
       "      <td>0.005295</td>\n",
       "      <td>0.005295</td>\n",
       "      <td>0.0</td>\n",
       "      <td>0.0</td>\n",
       "      <td>1.030960</td>\n",
       "    </tr>\n",
       "    <tr>\n",
       "      <th>min</th>\n",
       "      <td>82001.000000</td>\n",
       "      <td>4.000000e-02</td>\n",
       "      <td>0.040000</td>\n",
       "      <td>0.000000</td>\n",
       "      <td>0.0</td>\n",
       "      <td>0.0</td>\n",
       "      <td>1.000000</td>\n",
       "    </tr>\n",
       "    <tr>\n",
       "      <th>25%</th>\n",
       "      <td>82301.000000</td>\n",
       "      <td>4.000000e-02</td>\n",
       "      <td>0.050000</td>\n",
       "      <td>0.010000</td>\n",
       "      <td>0.0</td>\n",
       "      <td>0.0</td>\n",
       "      <td>1.000000</td>\n",
       "    </tr>\n",
       "    <tr>\n",
       "      <th>50%</th>\n",
       "      <td>82604.000000</td>\n",
       "      <td>4.000000e-02</td>\n",
       "      <td>0.050000</td>\n",
       "      <td>0.010000</td>\n",
       "      <td>0.0</td>\n",
       "      <td>0.0</td>\n",
       "      <td>1.000000</td>\n",
       "    </tr>\n",
       "    <tr>\n",
       "      <th>75%</th>\n",
       "      <td>82844.000000</td>\n",
       "      <td>4.000000e-02</td>\n",
       "      <td>0.060000</td>\n",
       "      <td>0.020000</td>\n",
       "      <td>0.0</td>\n",
       "      <td>0.0</td>\n",
       "      <td>2.000000</td>\n",
       "    </tr>\n",
       "    <tr>\n",
       "      <th>max</th>\n",
       "      <td>83414.000000</td>\n",
       "      <td>4.000000e-02</td>\n",
       "      <td>0.060000</td>\n",
       "      <td>0.020000</td>\n",
       "      <td>0.0</td>\n",
       "      <td>0.0</td>\n",
       "      <td>6.000000</td>\n",
       "    </tr>\n",
       "  </tbody>\n",
       "</table>\n",
       "</div>"
      ],
      "text/plain": [
       "            ZipCode     StateRate  EstimatedCombinedRate  EstimatedCountyRate  \\\n",
       "count    193.000000  1.930000e+02             193.000000           193.000000   \n",
       "mean   82572.202073  4.000000e-02               0.053433             0.013433   \n",
       "std      345.878931  2.782776e-17               0.005295             0.005295   \n",
       "min    82001.000000  4.000000e-02               0.040000             0.000000   \n",
       "25%    82301.000000  4.000000e-02               0.050000             0.010000   \n",
       "50%    82604.000000  4.000000e-02               0.050000             0.010000   \n",
       "75%    82844.000000  4.000000e-02               0.060000             0.020000   \n",
       "max    83414.000000  4.000000e-02               0.060000             0.020000   \n",
       "\n",
       "       EstimatedCityRate  EstimatedSpecialRate   RiskLevel  \n",
       "count              193.0                 193.0  193.000000  \n",
       "mean                 0.0                   0.0    1.606218  \n",
       "std                  0.0                   0.0    1.030960  \n",
       "min                  0.0                   0.0    1.000000  \n",
       "25%                  0.0                   0.0    1.000000  \n",
       "50%                  0.0                   0.0    1.000000  \n",
       "75%                  0.0                   0.0    2.000000  \n",
       "max                  0.0                   0.0    6.000000  "
      ]
     },
     "execution_count": 56,
     "metadata": {},
     "output_type": "execute_result"
    }
   ],
   "source": [
    "# just for testing : we are looking at last  dataframe\n",
    "\n",
    "l2[51].describe()"
   ]
  },
  {
   "cell_type": "code",
   "execution_count": 62,
   "metadata": {},
   "outputs": [
    {
     "name": "stdout",
     "output_type": "stream",
     "text": [
      "<class 'pandas.core.frame.DataFrame'>\n",
      "RangeIndex: 193 entries, 0 to 192\n",
      "Data columns (total 9 columns):\n",
      "State                    193 non-null object\n",
      "ZipCode                  193 non-null int64\n",
      "TaxRegionName            193 non-null object\n",
      "StateRate                193 non-null float64\n",
      "EstimatedCombinedRate    193 non-null float64\n",
      "EstimatedCountyRate      193 non-null float64\n",
      "EstimatedCityRate        193 non-null float64\n",
      "EstimatedSpecialRate     193 non-null int64\n",
      "RiskLevel                193 non-null int64\n",
      "dtypes: float64(4), int64(3), object(2)\n",
      "memory usage: 13.6+ KB\n"
     ]
    }
   ],
   "source": [
    "df52.info()"
   ]
  },
  {
   "cell_type": "code",
   "execution_count": 57,
   "metadata": {},
   "outputs": [],
   "source": [
    "# concatenating or merging all dataframes\n",
    "\n",
    "d_all=pd.concat([df1, df2, df3, df4, df5, df6, df7, df8, df9, df10, df11, df12, df13, df14, df15, df16, df17, df18, df19, df20, df21, df22, df23, df24, df25, df26, df27, df28, df29, df30, df31, df32, df33, df34, df35, df36, df37, df38, df39, df40, df41, df42, df43, df44, df45, df46, df47, df48, df49, df50, df51, df52, df1, df2, df3, df4, df5, df6, df7, df8, df9, df10, df11, df12, df13, df14, df15, df16, df17, df18, df19, df20, df21, df22, df23, df24, df25, df26, df27, df28, df29, df30, df31, df32, df33, df34, df35, df36, df37, df38, df39, df40, df41, df42, df43, df44, df45, df46, df47, df48, df49, df50, df51, df52, df1, df2, df3, df4, df5, df6, df7, df8, df9, df10, df11, df12, df13, df14, df15, df16, df17, df18, df19, df20, df21, df22, df23, df24, df25, df26, df27, df28, df29, df30, df31, df32, df33, df34, df35, df36, df37, df38, df39, df40, df41, df42, df43, df44, df45, df46, df47, df48, df49, df50, df51, df52])"
   ]
  },
  {
   "cell_type": "code",
   "execution_count": 108,
   "metadata": {},
   "outputs": [],
   "source": [
    "d_all.to_csv('d_all.csv')"
   ]
  },
  {
   "cell_type": "code",
   "execution_count": 63,
   "metadata": {},
   "outputs": [
    {
     "name": "stdout",
     "output_type": "stream",
     "text": [
      "<class 'pandas.core.frame.DataFrame'>\n",
      "Int64Index: 122688 entries, 0 to 192\n",
      "Data columns (total 9 columns):\n",
      "State                    122688 non-null object\n",
      "ZipCode                  122688 non-null int64\n",
      "TaxRegionName            122688 non-null object\n",
      "StateRate                122688 non-null float64\n",
      "EstimatedCombinedRate    122688 non-null float64\n",
      "EstimatedCountyRate      122688 non-null float64\n",
      "EstimatedCityRate        122688 non-null float64\n",
      "EstimatedSpecialRate     122688 non-null float64\n",
      "RiskLevel                122688 non-null int64\n",
      "dtypes: float64(5), int64(2), object(2)\n",
      "memory usage: 9.4+ MB\n"
     ]
    }
   ],
   "source": [
    "d_all.info()"
   ]
  },
  {
   "cell_type": "code",
   "execution_count": null,
   "metadata": {},
   "outputs": [],
   "source": []
  },
  {
   "cell_type": "code",
   "execution_count": null,
   "metadata": {},
   "outputs": [],
   "source": []
  },
  {
   "cell_type": "code",
   "execution_count": null,
   "metadata": {},
   "outputs": [],
   "source": [
    "# done thill here"
   ]
  },
  {
   "cell_type": "code",
   "execution_count": null,
   "metadata": {},
   "outputs": [],
   "source": []
  },
  {
   "cell_type": "code",
   "execution_count": null,
   "metadata": {},
   "outputs": [],
   "source": []
  },
  {
   "cell_type": "code",
   "execution_count": null,
   "metadata": {},
   "outputs": [],
   "source": []
  },
  {
   "cell_type": "code",
   "execution_count": 64,
   "metadata": {},
   "outputs": [
    {
     "ename": "NameError",
     "evalue": "name 'l1' is not defined",
     "output_type": "error",
     "traceback": [
      "\u001b[1;31m---------------------------------------------------------------------------\u001b[0m",
      "\u001b[1;31mNameError\u001b[0m                                 Traceback (most recent call last)",
      "\u001b[1;32m<ipython-input-64-ba1181e457eb>\u001b[0m in \u001b[0;36m<module>\u001b[1;34m()\u001b[0m\n\u001b[0;32m      1\u001b[0m \u001b[1;31m# making names from the list\u001b[0m\u001b[1;33m\u001b[0m\u001b[1;33m\u001b[0m\u001b[0m\n\u001b[0;32m      2\u001b[0m \u001b[1;33m\u001b[0m\u001b[0m\n\u001b[1;32m----> 3\u001b[1;33m \u001b[1;32mfor\u001b[0m \u001b[0mn\u001b[0m\u001b[1;33m,\u001b[0m \u001b[0mval\u001b[0m \u001b[1;32min\u001b[0m \u001b[0menumerate\u001b[0m\u001b[1;33m(\u001b[0m\u001b[0ml1\u001b[0m\u001b[1;33m,\u001b[0m\u001b[0mstart\u001b[0m\u001b[1;33m=\u001b[0m\u001b[1;36m1\u001b[0m\u001b[1;33m)\u001b[0m\u001b[1;33m:\u001b[0m\u001b[1;33m\u001b[0m\u001b[0m\n\u001b[0m\u001b[0;32m      4\u001b[0m     \u001b[0mglobals\u001b[0m\u001b[1;33m(\u001b[0m\u001b[1;33m)\u001b[0m\u001b[1;33m[\u001b[0m\u001b[1;34m\"var%d\"\u001b[0m\u001b[1;33m%\u001b[0m\u001b[0mn\u001b[0m\u001b[1;33m]\u001b[0m \u001b[1;33m=\u001b[0m \u001b[0mval\u001b[0m\u001b[1;33m\u001b[0m\u001b[0m\n\u001b[0;32m      5\u001b[0m     \u001b[0mprint\u001b[0m\u001b[1;33m(\u001b[0m\u001b[1;33m[\u001b[0m\u001b[1;34m\"var%d\"\u001b[0m\u001b[1;33m%\u001b[0m\u001b[0mn\u001b[0m\u001b[1;33m]\u001b[0m\u001b[1;33m,\u001b[0m\u001b[0mend\u001b[0m\u001b[1;33m=\u001b[0m\u001b[1;34m\"\"\u001b[0m\u001b[1;33m)\u001b[0m\u001b[1;33m\u001b[0m\u001b[0m\n",
      "\u001b[1;31mNameError\u001b[0m: name 'l1' is not defined"
     ]
    }
   ],
   "source": [
    "# making names from the list\n",
    "\n",
    "for n, val in enumerate(l1,start=1):\n",
    "    globals()[\"var%d\"%n] = val\n",
    "    print([\"var%d\"%n],end=\"\")\n",
    "\n",
    "print (\"\\n\\n\\n checking  for var5 \", var5)   \n",
    "print (var5)  # etc."
   ]
  },
  {
   "cell_type": "code",
   "execution_count": 68,
   "metadata": {},
   "outputs": [
    {
     "ename": "NameError",
     "evalue": "name 'var52' is not defined",
     "output_type": "error",
     "traceback": [
      "\u001b[1;31m---------------------------------------------------------------------------\u001b[0m",
      "\u001b[1;31mNameError\u001b[0m                                 Traceback (most recent call last)",
      "\u001b[1;32m<ipython-input-68-d0f9b7cddc75>\u001b[0m in \u001b[0;36m<module>\u001b[1;34m()\u001b[0m\n\u001b[1;32m----> 1\u001b[1;33m \u001b[0mvar52\u001b[0m\u001b[1;33m\u001b[0m\u001b[0m\n\u001b[0m",
      "\u001b[1;31mNameError\u001b[0m: name 'var52' is not defined"
     ]
    }
   ],
   "source": [
    "var52"
   ]
  },
  {
   "cell_type": "code",
   "execution_count": null,
   "metadata": {},
   "outputs": [],
   "source": []
  }
 ],
 "metadata": {
  "kernelspec": {
   "display_name": "Python 3",
   "language": "python",
   "name": "python3"
  },
  "language_info": {
   "codemirror_mode": {
    "name": "ipython",
    "version": 3
   },
   "file_extension": ".py",
   "mimetype": "text/x-python",
   "name": "python",
   "nbconvert_exporter": "python",
   "pygments_lexer": "ipython3",
   "version": "3.6.5"
  }
 },
 "nbformat": 4,
 "nbformat_minor": 2
}
