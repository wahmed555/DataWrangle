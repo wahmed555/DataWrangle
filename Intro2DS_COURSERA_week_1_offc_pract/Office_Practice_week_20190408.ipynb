{
 "cells": [
  {
   "cell_type": "code",
   "execution_count": 4,
   "metadata": {},
   "outputs": [
    {
     "name": "stdout",
     "output_type": "stream",
     "text": [
      "14\n"
     ]
    }
   ],
   "source": [
    "def adder(x,y,z=None):\n",
    "    if z==None:\n",
    "        return x+y\n",
    "    else :\n",
    "        return x+y+z\n",
    "print(adder(4,5,5))"
   ]
  },
  {
   "cell_type": "code",
   "execution_count": 5,
   "metadata": {
    "collapsed": true
   },
   "outputs": [],
   "source": [
    "a=adder"
   ]
  },
  {
   "cell_type": "code",
   "execution_count": 6,
   "metadata": {},
   "outputs": [
    {
     "data": {
      "text/plain": [
       "9"
      ]
     },
     "execution_count": 6,
     "metadata": {},
     "output_type": "execute_result"
    }
   ],
   "source": [
    "a(4,5)"
   ]
  },
  {
   "cell_type": "code",
   "execution_count": 7,
   "metadata": {
    "collapsed": true
   },
   "outputs": [],
   "source": [
    "t=(1,'v',3,'j',8)"
   ]
  },
  {
   "cell_type": "code",
   "execution_count": 8,
   "metadata": {},
   "outputs": [
    {
     "data": {
      "text/plain": [
       "tuple"
      ]
     },
     "execution_count": 8,
     "metadata": {},
     "output_type": "execute_result"
    }
   ],
   "source": [
    "type(t)"
   ]
  },
  {
   "cell_type": "code",
   "execution_count": 9,
   "metadata": {},
   "outputs": [
    {
     "ename": "AttributeError",
     "evalue": "'tuple' object has no attribute 'append'",
     "output_type": "error",
     "traceback": [
      "\u001b[1;31m---------------------------------------------------------------------------\u001b[0m",
      "\u001b[1;31mAttributeError\u001b[0m                            Traceback (most recent call last)",
      "\u001b[1;32m<ipython-input-9-9d06e9b19693>\u001b[0m in \u001b[0;36m<module>\u001b[1;34m()\u001b[0m\n\u001b[1;32m----> 1\u001b[1;33m \u001b[0mt\u001b[0m\u001b[1;33m.\u001b[0m\u001b[0mappend\u001b[0m\u001b[1;33m(\u001b[0m\u001b[1;34m'h'\u001b[0m\u001b[1;33m)\u001b[0m\u001b[1;33m\u001b[0m\u001b[0m\n\u001b[0m",
      "\u001b[1;31mAttributeError\u001b[0m: 'tuple' object has no attribute 'append'"
     ]
    }
   ],
   "source": [
    "t.append('h')"
   ]
  },
  {
   "cell_type": "code",
   "execution_count": 10,
   "metadata": {},
   "outputs": [
    {
     "ename": "AttributeError",
     "evalue": "'tuple' object has no attribute 'insert'",
     "output_type": "error",
     "traceback": [
      "\u001b[1;31m---------------------------------------------------------------------------\u001b[0m",
      "\u001b[1;31mAttributeError\u001b[0m                            Traceback (most recent call last)",
      "\u001b[1;32m<ipython-input-10-1c24291d459b>\u001b[0m in \u001b[0;36m<module>\u001b[1;34m()\u001b[0m\n\u001b[1;32m----> 1\u001b[1;33m \u001b[0mt\u001b[0m\u001b[1;33m.\u001b[0m\u001b[0minsert\u001b[0m\u001b[1;33m(\u001b[0m\u001b[1;34m'h'\u001b[0m\u001b[1;33m)\u001b[0m\u001b[1;33m\u001b[0m\u001b[0m\n\u001b[0m",
      "\u001b[1;31mAttributeError\u001b[0m: 'tuple' object has no attribute 'insert'"
     ]
    }
   ],
   "source": [
    "t.insert('h')"
   ]
  },
  {
   "cell_type": "code",
   "execution_count": 12,
   "metadata": {},
   "outputs": [
    {
     "name": "stdout",
     "output_type": "stream",
     "text": [
      "1\n",
      "v\n",
      "3\n",
      "j\n",
      "8\n"
     ]
    }
   ],
   "source": [
    "for i in t:\n",
    "    print(i)"
   ]
  },
  {
   "cell_type": "code",
   "execution_count": 13,
   "metadata": {
    "collapsed": true
   },
   "outputs": [],
   "source": [
    "#list\n",
    "\n",
    "l=[1,'l',3,'b',4]"
   ]
  },
  {
   "cell_type": "code",
   "execution_count": 14,
   "metadata": {
    "collapsed": true
   },
   "outputs": [],
   "source": [
    "l.append(4.4)"
   ]
  },
  {
   "cell_type": "code",
   "execution_count": 15,
   "metadata": {},
   "outputs": [
    {
     "name": "stdout",
     "output_type": "stream",
     "text": [
      "1\n",
      "l\n",
      "3\n",
      "b\n",
      "4\n",
      "4.4\n"
     ]
    }
   ],
   "source": [
    "for i in l:\n",
    "    print(i)"
   ]
  },
  {
   "cell_type": "code",
   "execution_count": 17,
   "metadata": {},
   "outputs": [
    {
     "data": {
      "text/plain": [
       "[3, 9, 'a', 5]"
      ]
     },
     "execution_count": 17,
     "metadata": {},
     "output_type": "execute_result"
    }
   ],
   "source": [
    "l=[3,9]+['a',5]\n",
    "l"
   ]
  },
  {
   "cell_type": "code",
   "execution_count": 18,
   "metadata": {},
   "outputs": [
    {
     "data": {
      "text/plain": [
       "list"
      ]
     },
     "execution_count": 18,
     "metadata": {},
     "output_type": "execute_result"
    }
   ],
   "source": [
    "type(l)"
   ]
  },
  {
   "cell_type": "code",
   "execution_count": 19,
   "metadata": {
    "collapsed": true
   },
   "outputs": [],
   "source": [
    "l=[3,9]+['a',5]*4"
   ]
  },
  {
   "cell_type": "code",
   "execution_count": 20,
   "metadata": {},
   "outputs": [
    {
     "data": {
      "text/plain": [
       "[3, 9, 'a', 5, 'a', 5, 'a', 5, 'a', 5]"
      ]
     },
     "execution_count": 20,
     "metadata": {},
     "output_type": "execute_result"
    }
   ],
   "source": [
    "l"
   ]
  },
  {
   "cell_type": "code",
   "execution_count": 25,
   "metadata": {},
   "outputs": [
    {
     "data": {
      "text/plain": [
       "True"
      ]
     },
     "execution_count": 25,
     "metadata": {},
     "output_type": "execute_result"
    }
   ],
   "source": [
    "3 in [3, 9, 'a', 5, 'a', 5, 'a', 5, 'a', 5]"
   ]
  },
  {
   "cell_type": "code",
   "execution_count": 29,
   "metadata": {},
   "outputs": [
    {
     "data": {
      "text/plain": [
       "['a', 5, 'a', 5, 'a']"
      ]
     },
     "execution_count": 29,
     "metadata": {},
     "output_type": "execute_result"
    }
   ],
   "source": [
    "l[-8:-3]"
   ]
  },
  {
   "cell_type": "code",
   "execution_count": 27,
   "metadata": {},
   "outputs": [
    {
     "data": {
      "text/plain": [
       "[3, 9, 'a', 5, 'a', 5, 'a', 5, 'a', 5]"
      ]
     },
     "execution_count": 27,
     "metadata": {},
     "output_type": "execute_result"
    }
   ],
   "source": [
    "l"
   ]
  },
  {
   "cell_type": "code",
   "execution_count": 42,
   "metadata": {},
   "outputs": [
    {
     "name": "stdout",
     "output_type": "stream",
     "text": [
      "Waseem Ahmed boy\n"
     ]
    }
   ],
   "source": [
    "fname=\"Waseem\"\n",
    "lname=\"Ahmed\"\n",
    "# k=fname+\" \"+lname +\" \"+ \"is a nice person\"\n",
    "print(fname+\" \"+lname +\" \"+ \"is a nice person boy\".split(' ')[-1])"
   ]
  },
  {
   "cell_type": "code",
   "execution_count": 43,
   "metadata": {},
   "outputs": [
    {
     "name": "stdout",
     "output_type": "stream",
     "text": [
      "Waseem Ahmed is a nice person\n"
     ]
    }
   ],
   "source": [
    "print(k)"
   ]
  },
  {
   "cell_type": "code",
   "execution_count": 44,
   "metadata": {},
   "outputs": [
    {
     "data": {
      "text/plain": [
       "['Waseem', 'Ahmed', 'is', 'a', 'nice', 'person']"
      ]
     },
     "execution_count": 44,
     "metadata": {},
     "output_type": "execute_result"
    }
   ],
   "source": [
    "k.split(' ')"
   ]
  },
  {
   "cell_type": "code",
   "execution_count": 48,
   "metadata": {},
   "outputs": [],
   "source": [
    "k=fname+\" \"+lname +\" \"+ \"is a nice person boy\""
   ]
  },
  {
   "cell_type": "code",
   "execution_count": 58,
   "metadata": {},
   "outputs": [],
   "source": [
    "g=k.split(' ')"
   ]
  },
  {
   "cell_type": "code",
   "execution_count": 59,
   "metadata": {},
   "outputs": [
    {
     "data": {
      "text/plain": [
       "['Waseem', 'Ahmed', 'is', 'a', 'nice', 'person', 'boy']"
      ]
     },
     "execution_count": 59,
     "metadata": {},
     "output_type": "execute_result"
    }
   ],
   "source": [
    "g"
   ]
  },
  {
   "cell_type": "code",
   "execution_count": 60,
   "metadata": {
    "collapsed": true
   },
   "outputs": [],
   "source": [
    "#dictionary"
   ]
  },
  {
   "cell_type": "code",
   "execution_count": 61,
   "metadata": {
    "collapsed": true
   },
   "outputs": [],
   "source": [
    "d={'taxi':'careem','cycle':'sohrab','party':'pti'}"
   ]
  },
  {
   "cell_type": "code",
   "execution_count": 64,
   "metadata": {},
   "outputs": [
    {
     "data": {
      "text/plain": [
       "dict_keys(['taxi', 'cycle', 'party'])"
      ]
     },
     "execution_count": 64,
     "metadata": {},
     "output_type": "execute_result"
    }
   ],
   "source": [
    "d.keys()"
   ]
  },
  {
   "cell_type": "code",
   "execution_count": 66,
   "metadata": {},
   "outputs": [
    {
     "data": {
      "text/plain": [
       "dict_values(['careem', 'sohrab', 'pti'])"
      ]
     },
     "execution_count": 66,
     "metadata": {},
     "output_type": "execute_result"
    }
   ],
   "source": [
    "d.values()"
   ]
  },
  {
   "cell_type": "code",
   "execution_count": 67,
   "metadata": {},
   "outputs": [
    {
     "data": {
      "text/plain": [
       "dict_items([('taxi', 'careem'), ('cycle', 'sohrab'), ('party', 'pti')])"
      ]
     },
     "execution_count": 67,
     "metadata": {},
     "output_type": "execute_result"
    }
   ],
   "source": [
    "d.items()"
   ]
  },
  {
   "cell_type": "code",
   "execution_count": 68,
   "metadata": {},
   "outputs": [
    {
     "data": {
      "text/plain": [
       "3"
      ]
     },
     "execution_count": 68,
     "metadata": {},
     "output_type": "execute_result"
    }
   ],
   "source": [
    "len(d)"
   ]
  },
  {
   "cell_type": "code",
   "execution_count": 79,
   "metadata": {},
   "outputs": [
    {
     "name": "stdout",
     "output_type": "stream",
     "text": [
      "careem\n",
      "sohrab\n",
      "pti\n"
     ]
    }
   ],
   "source": [
    "for name in d:\n",
    "    print(d[name])"
   ]
  },
  {
   "cell_type": "code",
   "execution_count": 81,
   "metadata": {},
   "outputs": [
    {
     "data": {
      "text/plain": [
       "'careem'"
      ]
     },
     "execution_count": 81,
     "metadata": {},
     "output_type": "execute_result"
    }
   ],
   "source": [
    "d['taxi']"
   ]
  },
  {
   "cell_type": "code",
   "execution_count": 86,
   "metadata": {},
   "outputs": [
    {
     "name": "stdout",
     "output_type": "stream",
     "text": [
      "careem\n",
      "sohrab\n",
      "pti\n"
     ]
    }
   ],
   "source": [
    "for name in d.values():\n",
    "    print(name)"
   ]
  },
  {
   "cell_type": "code",
   "execution_count": 92,
   "metadata": {},
   "outputs": [
    {
     "ename": "SyntaxError",
     "evalue": "invalid syntax (<ipython-input-92-39205c8d1372>, line 1)",
     "output_type": "error",
     "traceback": [
      "\u001b[1;36m  File \u001b[1;32m\"<ipython-input-92-39205c8d1372>\"\u001b[1;36m, line \u001b[1;32m1\u001b[0m\n\u001b[1;33m    x:x1,y:y1,z:z1=d\u001b[0m\n\u001b[1;37m        ^\u001b[0m\n\u001b[1;31mSyntaxError\u001b[0m\u001b[1;31m:\u001b[0m invalid syntax\n"
     ]
    }
   ],
   "source": [
    "x:x1,y:y1,z:z1=d"
   ]
  },
  {
   "cell_type": "code",
   "execution_count": 93,
   "metadata": {},
   "outputs": [],
   "source": [
    "x,y,z=d"
   ]
  },
  {
   "cell_type": "code",
   "execution_count": 98,
   "metadata": {},
   "outputs": [
    {
     "data": {
      "text/plain": [
       "'cycle'"
      ]
     },
     "execution_count": 98,
     "metadata": {},
     "output_type": "execute_result"
    }
   ],
   "source": [
    "y\n"
   ]
  },
  {
   "cell_type": "markdown",
   "metadata": {},
   "source": [
    "## String formating"
   ]
  },
  {
   "cell_type": "code",
   "execution_count": 99,
   "metadata": {},
   "outputs": [
    {
     "name": "stdout",
     "output_type": "stream",
     "text": [
      "Waseem rides sohrab bycycle otherwise uses careem taxi and support pti party\n"
     ]
    }
   ],
   "source": [
    "print(\"Waseem rides {} bycycle otherwise uses {} taxi and support {} party\" .format(d['cycle'],d['taxi'],d['party']))"
   ]
  },
  {
   "cell_type": "markdown",
   "metadata": {},
   "source": [
    "##  reading a csv file"
   ]
  },
  {
   "cell_type": "code",
   "execution_count": 18,
   "metadata": {},
   "outputs": [],
   "source": [
    "# importing the library for reading csv files\n",
    "import csv"
   ]
  },
  {
   "cell_type": "code",
   "execution_count": 30,
   "metadata": {},
   "outputs": [],
   "source": [
    "# using filing to open the mpg data file using csv reader function\n",
    "\n",
    "# csv reader function converts the column value and row entry in to a dictionary\n",
    "\n",
    "with open(\"C:\\\\Users\\\\Ahmed\\\\Documents\\\\COursera\\\\course_2Intro to Data Science in Python\\\\week_B\\\\mpg.csv\") as file_obj:\n",
    "    mpg=list(csv.DictReader(file_obj))"
   ]
  },
  {
   "cell_type": "code",
   "execution_count": 23,
   "metadata": {},
   "outputs": [
    {
     "data": {
      "text/plain": [
       "[OrderedDict([('', '1'),\n",
       "              ('manufacturer', 'audi'),\n",
       "              ('model', 'a4'),\n",
       "              ('displ', '1.8'),\n",
       "              ('year', '1999'),\n",
       "              ('cyl', '4'),\n",
       "              ('trans', 'auto(l5)'),\n",
       "              ('drv', 'f'),\n",
       "              ('cty', '18'),\n",
       "              ('hwy', '29'),\n",
       "              ('fl', 'p'),\n",
       "              ('class', 'compact')]),\n",
       " OrderedDict([('', '2'),\n",
       "              ('manufacturer', 'audi'),\n",
       "              ('model', 'a4'),\n",
       "              ('displ', '1.8'),\n",
       "              ('year', '1999'),\n",
       "              ('cyl', '4'),\n",
       "              ('trans', 'manual(m5)'),\n",
       "              ('drv', 'f'),\n",
       "              ('cty', '21'),\n",
       "              ('hwy', '29'),\n",
       "              ('fl', 'p'),\n",
       "              ('class', 'compact')]),\n",
       " OrderedDict([('', '3'),\n",
       "              ('manufacturer', 'audi'),\n",
       "              ('model', 'a4'),\n",
       "              ('displ', '2'),\n",
       "              ('year', '2008'),\n",
       "              ('cyl', '4'),\n",
       "              ('trans', 'manual(m6)'),\n",
       "              ('drv', 'f'),\n",
       "              ('cty', '20'),\n",
       "              ('hwy', '31'),\n",
       "              ('fl', 'p'),\n",
       "              ('class', 'compact')])]"
      ]
     },
     "execution_count": 23,
     "metadata": {},
     "output_type": "execute_result"
    }
   ],
   "source": [
    "# viewing the  list of dictionary from 4th entry to 8th entry\n",
    "mpg[:3]"
   ]
  },
  {
   "cell_type": "code",
   "execution_count": 24,
   "metadata": {},
   "outputs": [
    {
     "data": {
      "text/plain": [
       "234"
      ]
     },
     "execution_count": 24,
     "metadata": {},
     "output_type": "execute_result"
    }
   ],
   "source": [
    "len(mpg)"
   ]
  },
  {
   "cell_type": "code",
   "execution_count": 25,
   "metadata": {},
   "outputs": [
    {
     "data": {
      "text/plain": [
       "list"
      ]
     },
     "execution_count": 25,
     "metadata": {},
     "output_type": "execute_result"
    }
   ],
   "source": [
    "type(mpg)"
   ]
  },
  {
   "cell_type": "code",
   "execution_count": 26,
   "metadata": {},
   "outputs": [
    {
     "data": {
      "text/plain": [
       "OrderedDict([('', '1'),\n",
       "             ('manufacturer', 'audi'),\n",
       "             ('model', 'a4'),\n",
       "             ('displ', '1.8'),\n",
       "             ('year', '1999'),\n",
       "             ('cyl', '4'),\n",
       "             ('trans', 'auto(l5)'),\n",
       "             ('drv', 'f'),\n",
       "             ('cty', '18'),\n",
       "             ('hwy', '29'),\n",
       "             ('fl', 'p'),\n",
       "             ('class', 'compact')])"
      ]
     },
     "execution_count": 26,
     "metadata": {},
     "output_type": "execute_result"
    }
   ],
   "source": [
    "mpg[0]"
   ]
  },
  {
   "cell_type": "markdown",
   "metadata": {},
   "source": [
    "## To view the coloumn name of CSV file\n",
    " \n",
    " we  pick 1st element of mpg list and use the key method to see the keys"
   ]
  },
  {
   "cell_type": "code",
   "execution_count": 31,
   "metadata": {},
   "outputs": [
    {
     "data": {
      "text/plain": [
       "odict_keys(['', 'manufacturer', 'model', 'displ', 'year', 'cyl', 'trans', 'drv', 'cty', 'hwy', 'fl', 'class'])"
      ]
     },
     "execution_count": 31,
     "metadata": {},
     "output_type": "execute_result"
    }
   ],
   "source": [
    "\n",
    "mpg[0].keys()"
   ]
  },
  {
   "cell_type": "markdown",
   "metadata": {},
   "source": [
    "# To get the average city mpg (List comprehension)\n",
    "\n",
    "We sum all the mpg and then divide by total len of list"
   ]
  },
  {
   "cell_type": "code",
   "execution_count": 112,
   "metadata": {},
   "outputs": [
    {
     "data": {
      "text/plain": [
       "16.858974358974358"
      ]
     },
     "execution_count": 112,
     "metadata": {},
     "output_type": "execute_result"
    }
   ],
   "source": [
    "# Average in single line using list comprehension\n",
    "sum(float(d['cty']) for d in mpg)/len(mpg)"
   ]
  },
  {
   "cell_type": "code",
   "execution_count": 54,
   "metadata": {},
   "outputs": [
    {
     "data": {
      "text/plain": [
       "3945.0"
      ]
     },
     "execution_count": 54,
     "metadata": {},
     "output_type": "execute_result"
    }
   ],
   "source": [
    "# Explaination\n",
    "# sum of city average of all cars\n",
    "\n",
    "sum(float(d['cty']) for d in mpg)"
   ]
  },
  {
   "cell_type": "code",
   "execution_count": 55,
   "metadata": {},
   "outputs": [
    {
     "name": "stdout",
     "output_type": "stream",
     "text": [
      "18 \n",
      "\n",
      "21 \n",
      "\n",
      "20 \n",
      "\n",
      "21 \n",
      "\n",
      "16 \n",
      "\n",
      "18 \n",
      "\n",
      "18 \n",
      "\n",
      "18 \n",
      "\n",
      "16 \n",
      "\n",
      "20 \n",
      "\n",
      "19 \n",
      "\n",
      "15 \n",
      "\n",
      "17 \n",
      "\n",
      "17 \n",
      "\n",
      "15 \n",
      "\n",
      "15 \n",
      "\n",
      "17 \n",
      "\n",
      "16 \n",
      "\n",
      "14 \n",
      "\n",
      "11 \n",
      "\n",
      "14 \n",
      "\n",
      "13 \n",
      "\n",
      "12 \n",
      "\n",
      "16 \n",
      "\n",
      "15 \n",
      "\n",
      "16 \n",
      "\n",
      "15 \n",
      "\n",
      "15 \n",
      "\n",
      "14 \n",
      "\n",
      "11 \n",
      "\n",
      "11 \n",
      "\n",
      "14 \n",
      "\n",
      "19 \n",
      "\n",
      "22 \n",
      "\n",
      "18 \n",
      "\n",
      "18 \n",
      "\n",
      "17 \n",
      "\n",
      "18 \n",
      "\n",
      "17 \n",
      "\n",
      "16 \n",
      "\n",
      "16 \n",
      "\n",
      "17 \n",
      "\n",
      "17 \n",
      "\n",
      "11 \n",
      "\n",
      "15 \n",
      "\n",
      "15 \n",
      "\n",
      "16 \n",
      "\n",
      "16 \n",
      "\n",
      "15 \n",
      "\n",
      "14 \n",
      "\n",
      "13 \n",
      "\n",
      "14 \n",
      "\n",
      "14 \n",
      "\n",
      "14 \n",
      "\n",
      "9 \n",
      "\n",
      "11 \n",
      "\n",
      "11 \n",
      "\n",
      "13 \n",
      "\n",
      "13 \n",
      "\n",
      "9 \n",
      "\n",
      "13 \n",
      "\n",
      "11 \n",
      "\n",
      "13 \n",
      "\n",
      "11 \n",
      "\n",
      "12 \n",
      "\n",
      "9 \n",
      "\n",
      "13 \n",
      "\n",
      "13 \n",
      "\n",
      "12 \n",
      "\n",
      "9 \n",
      "\n",
      "11 \n",
      "\n",
      "11 \n",
      "\n",
      "13 \n",
      "\n",
      "11 \n",
      "\n",
      "11 \n",
      "\n",
      "11 \n",
      "\n",
      "12 \n",
      "\n",
      "14 \n",
      "\n",
      "15 \n",
      "\n",
      "14 \n",
      "\n",
      "13 \n",
      "\n",
      "13 \n",
      "\n",
      "13 \n",
      "\n",
      "14 \n",
      "\n",
      "14 \n",
      "\n",
      "13 \n",
      "\n",
      "13 \n",
      "\n",
      "13 \n",
      "\n",
      "11 \n",
      "\n",
      "13 \n",
      "\n",
      "18 \n",
      "\n",
      "18 \n",
      "\n",
      "17 \n",
      "\n",
      "16 \n",
      "\n",
      "15 \n",
      "\n",
      "15 \n",
      "\n",
      "15 \n",
      "\n",
      "15 \n",
      "\n",
      "14 \n",
      "\n",
      "28 \n",
      "\n",
      "24 \n",
      "\n",
      "25 \n",
      "\n",
      "23 \n",
      "\n",
      "24 \n",
      "\n",
      "26 \n",
      "\n",
      "25 \n",
      "\n",
      "24 \n",
      "\n",
      "21 \n",
      "\n",
      "18 \n",
      "\n",
      "18 \n",
      "\n",
      "21 \n",
      "\n",
      "21 \n",
      "\n",
      "18 \n",
      "\n",
      "18 \n",
      "\n",
      "19 \n",
      "\n",
      "19 \n",
      "\n",
      "19 \n",
      "\n",
      "20 \n",
      "\n",
      "20 \n",
      "\n",
      "17 \n",
      "\n",
      "16 \n",
      "\n",
      "17 \n",
      "\n",
      "17 \n",
      "\n",
      "15 \n",
      "\n",
      "15 \n",
      "\n",
      "14 \n",
      "\n",
      "9 \n",
      "\n",
      "14 \n",
      "\n",
      "13 \n",
      "\n",
      "11 \n",
      "\n",
      "11 \n",
      "\n",
      "12 \n",
      "\n",
      "12 \n",
      "\n",
      "11 \n",
      "\n",
      "11 \n",
      "\n",
      "11 \n",
      "\n",
      "12 \n",
      "\n",
      "14 \n",
      "\n",
      "13 \n",
      "\n",
      "13 \n",
      "\n",
      "13 \n",
      "\n",
      "21 \n",
      "\n",
      "19 \n",
      "\n",
      "23 \n",
      "\n",
      "23 \n",
      "\n",
      "19 \n",
      "\n",
      "19 \n",
      "\n",
      "18 \n",
      "\n",
      "19 \n",
      "\n",
      "19 \n",
      "\n",
      "14 \n",
      "\n",
      "15 \n",
      "\n",
      "14 \n",
      "\n",
      "12 \n",
      "\n",
      "18 \n",
      "\n",
      "16 \n",
      "\n",
      "17 \n",
      "\n",
      "18 \n",
      "\n",
      "16 \n",
      "\n",
      "18 \n",
      "\n",
      "18 \n",
      "\n",
      "20 \n",
      "\n",
      "19 \n",
      "\n",
      "20 \n",
      "\n",
      "18 \n",
      "\n",
      "21 \n",
      "\n",
      "19 \n",
      "\n",
      "19 \n",
      "\n",
      "19 \n",
      "\n",
      "20 \n",
      "\n",
      "20 \n",
      "\n",
      "19 \n",
      "\n",
      "20 \n",
      "\n",
      "15 \n",
      "\n",
      "16 \n",
      "\n",
      "15 \n",
      "\n",
      "15 \n",
      "\n",
      "16 \n",
      "\n",
      "14 \n",
      "\n",
      "21 \n",
      "\n",
      "21 \n",
      "\n",
      "21 \n",
      "\n",
      "21 \n",
      "\n",
      "18 \n",
      "\n",
      "18 \n",
      "\n",
      "19 \n",
      "\n",
      "21 \n",
      "\n",
      "21 \n",
      "\n",
      "21 \n",
      "\n",
      "22 \n",
      "\n",
      "18 \n",
      "\n",
      "18 \n",
      "\n",
      "18 \n",
      "\n",
      "24 \n",
      "\n",
      "24 \n",
      "\n",
      "26 \n",
      "\n",
      "28 \n",
      "\n",
      "26 \n",
      "\n",
      "11 \n",
      "\n",
      "13 \n",
      "\n",
      "15 \n",
      "\n",
      "16 \n",
      "\n",
      "17 \n",
      "\n",
      "15 \n",
      "\n",
      "15 \n",
      "\n",
      "15 \n",
      "\n",
      "16 \n",
      "\n",
      "21 \n",
      "\n",
      "19 \n",
      "\n",
      "21 \n",
      "\n",
      "22 \n",
      "\n",
      "17 \n",
      "\n",
      "33 \n",
      "\n",
      "21 \n",
      "\n",
      "19 \n",
      "\n",
      "22 \n",
      "\n",
      "21 \n",
      "\n",
      "21 \n",
      "\n",
      "21 \n",
      "\n",
      "16 \n",
      "\n",
      "17 \n",
      "\n",
      "35 \n",
      "\n",
      "29 \n",
      "\n",
      "21 \n",
      "\n",
      "19 \n",
      "\n",
      "20 \n",
      "\n",
      "20 \n",
      "\n",
      "21 \n",
      "\n",
      "18 \n",
      "\n",
      "19 \n",
      "\n",
      "21 \n",
      "\n",
      "16 \n",
      "\n",
      "18 \n",
      "\n",
      "17 \n",
      "\n"
     ]
    }
   ],
   "source": [
    "k=[]\n",
    "for d in mpg:\n",
    "    print(d['cty'],\"\\n\")\n",
    "    k.append(float(d['cty']))"
   ]
  },
  {
   "cell_type": "code",
   "execution_count": 56,
   "metadata": {},
   "outputs": [
    {
     "data": {
      "text/plain": [
       "3945.0"
      ]
     },
     "execution_count": 56,
     "metadata": {},
     "output_type": "execute_result"
    }
   ],
   "source": [
    "sum(k)"
   ]
  },
  {
   "cell_type": "markdown",
   "metadata": {},
   "source": [
    "## To get the average Highway mpg\n",
    "\n",
    "We sum all the mpg and then divide by total len of list"
   ]
  },
  {
   "cell_type": "code",
   "execution_count": 59,
   "metadata": {},
   "outputs": [
    {
     "data": {
      "text/plain": [
       "23.44017094017094"
      ]
     },
     "execution_count": 59,
     "metadata": {},
     "output_type": "execute_result"
    }
   ],
   "source": [
    "sum(float(d['hwy']) for d in mpg)/len(mpg)"
   ]
  },
  {
   "cell_type": "markdown",
   "metadata": {},
   "source": [
    "### To get the number of cylinder cars have in our dataset"
   ]
  },
  {
   "cell_type": "code",
   "execution_count": 66,
   "metadata": {},
   "outputs": [
    {
     "data": {
      "text/plain": [
       "{'4', '5', '6', '8'}"
      ]
     },
     "execution_count": 66,
     "metadata": {},
     "output_type": "execute_result"
    }
   ],
   "source": [
    "cylinder=set(d['cyl'] for d in mpg)\n",
    "cylinder"
   ]
  },
  {
   "cell_type": "markdown",
   "metadata": {},
   "source": [
    "### To find theaverage fuel economy by number of cylinder"
   ]
  },
  {
   "cell_type": "code",
   "execution_count": 69,
   "metadata": {},
   "outputs": [
    {
     "data": {
      "text/plain": [
       "[['8', 12.571428571428571],\n",
       " ['4', 21.012345679012345],\n",
       " ['6', 16.21518987341772],\n",
       " ['5', 20.5]]"
      ]
     },
     "execution_count": 69,
     "metadata": {},
     "output_type": "execute_result"
    }
   ],
   "source": [
    "ctyMPGbyCYL=[]\n",
    "for c in cylinder:\n",
    "    sumMpg=0\n",
    "    cyltypecount=0\n",
    "    for d in mpg:\n",
    "        if d['cyl']==c:\n",
    "            sumMpg+=float(d['cty'])\n",
    "            cyltypecount +=1\n",
    "    ctyMPGbyCYL.append([c,sumMpg/cyltypecount])   \n",
    "    \n",
    "ctyMPGbyCYL"
   ]
  },
  {
   "cell_type": "markdown",
   "metadata": {},
   "source": [
    "### To get the number of vehical class in our dataset"
   ]
  },
  {
   "cell_type": "code",
   "execution_count": 76,
   "metadata": {},
   "outputs": [
    {
     "data": {
      "text/plain": [
       "{'2seater', 'compact', 'midsize', 'minivan', 'pickup', 'subcompact', 'suv'}"
      ]
     },
     "execution_count": 76,
     "metadata": {},
     "output_type": "execute_result"
    }
   ],
   "source": [
    "Vehicalclass=set(d['class'] for d in mpg)\n",
    "Vehicalclass"
   ]
  },
  {
   "cell_type": "code",
   "execution_count": 78,
   "metadata": {},
   "outputs": [
    {
     "data": {
      "text/plain": [
       "[['subcompact', 20.37142857142857],\n",
       " ['compact', 20.127659574468087],\n",
       " ['minivan', 15.818181818181818],\n",
       " ['pickup', 13.0],\n",
       " ['2seater', 15.4],\n",
       " ['midsize', 18.75609756097561],\n",
       " ['suv', 13.5]]"
      ]
     },
     "execution_count": 78,
     "metadata": {},
     "output_type": "execute_result"
    }
   ],
   "source": [
    "ctyMPGbyVclass=[]\n",
    "for v in Vehicalclass:\n",
    "    sumMpg=0\n",
    "    vtypecount=0\n",
    "    for d in mpg:\n",
    "        if d['class']==v:\n",
    "            sumMpg+=float(d['cty'])\n",
    "            vtypecount +=1\n",
    "    ctyMPGbyVclass.append([v,sumMpg/vtypecount])\n",
    "\n",
    "ctyMPGbyVclass"
   ]
  },
  {
   "cell_type": "markdown",
   "metadata": {},
   "source": [
    "## 05 Date and Time "
   ]
  },
  {
   "cell_type": "code",
   "execution_count": 79,
   "metadata": {},
   "outputs": [],
   "source": [
    "import datetime as dt\n",
    "import time as tm"
   ]
  },
  {
   "cell_type": "code",
   "execution_count": 80,
   "metadata": {},
   "outputs": [
    {
     "data": {
      "text/plain": [
       "1554707775.5933154"
      ]
     },
     "execution_count": 80,
     "metadata": {},
     "output_type": "execute_result"
    }
   ],
   "source": [
    "tm.time()"
   ]
  },
  {
   "cell_type": "code",
   "execution_count": 81,
   "metadata": {},
   "outputs": [],
   "source": [
    "dtnow=dt.datetime.fromtimestamp(tm.time())"
   ]
  },
  {
   "cell_type": "code",
   "execution_count": 82,
   "metadata": {},
   "outputs": [
    {
     "data": {
      "text/plain": [
       "datetime.datetime(2019, 4, 8, 12, 17, 8, 99319)"
      ]
     },
     "execution_count": 82,
     "metadata": {},
     "output_type": "execute_result"
    }
   ],
   "source": [
    "dtnow"
   ]
  },
  {
   "cell_type": "code",
   "execution_count": 83,
   "metadata": {},
   "outputs": [
    {
     "data": {
      "text/plain": [
       "datetime.datetime"
      ]
     },
     "execution_count": 83,
     "metadata": {},
     "output_type": "execute_result"
    }
   ],
   "source": [
    "type(dtnow)"
   ]
  },
  {
   "cell_type": "code",
   "execution_count": 88,
   "metadata": {},
   "outputs": [
    {
     "data": {
      "text/plain": [
       "(2019, 4, 8, 12, 17, 8)"
      ]
     },
     "execution_count": 88,
     "metadata": {},
     "output_type": "execute_result"
    }
   ],
   "source": [
    "dtnow.year,dtnow.month,dtnow.day,dtnow.hour,dtnow.minute,dtnow.second"
   ]
  },
  {
   "cell_type": "code",
   "execution_count": 95,
   "metadata": {},
   "outputs": [
    {
     "data": {
      "text/plain": [
       "datetime.timedelta(100)"
      ]
     },
     "execution_count": 95,
     "metadata": {},
     "output_type": "execute_result"
    }
   ],
   "source": [
    "delta=dt.timedelta(days=100)\n",
    "delta"
   ]
  },
  {
   "cell_type": "code",
   "execution_count": 90,
   "metadata": {},
   "outputs": [],
   "source": [
    "dtafter=dtnow+delta"
   ]
  },
  {
   "cell_type": "code",
   "execution_count": 91,
   "metadata": {},
   "outputs": [
    {
     "data": {
      "text/plain": [
       "datetime.datetime(2019, 7, 17, 12, 17, 8, 99319)"
      ]
     },
     "execution_count": 91,
     "metadata": {},
     "output_type": "execute_result"
    }
   ],
   "source": [
    "dtafter"
   ]
  },
  {
   "cell_type": "code",
   "execution_count": 92,
   "metadata": {},
   "outputs": [],
   "source": [
    "today=dt.date.today()"
   ]
  },
  {
   "cell_type": "code",
   "execution_count": 93,
   "metadata": {},
   "outputs": [
    {
     "data": {
      "text/plain": [
       "datetime.date(2019, 4, 8)"
      ]
     },
     "execution_count": 93,
     "metadata": {},
     "output_type": "execute_result"
    }
   ],
   "source": [
    "today"
   ]
  },
  {
   "cell_type": "code",
   "execution_count": 96,
   "metadata": {},
   "outputs": [
    {
     "data": {
      "text/plain": [
       "datetime.date(2018, 12, 29)"
      ]
     },
     "execution_count": 96,
     "metadata": {},
     "output_type": "execute_result"
    }
   ],
   "source": [
    "today-delta"
   ]
  },
  {
   "cell_type": "markdown",
   "metadata": {},
   "source": [
    "##  06 Objects and  Map"
   ]
  },
  {
   "cell_type": "code",
   "execution_count": 107,
   "metadata": {},
   "outputs": [],
   "source": [
    "store1=[12.45,4.5,7,9,21.2]\n",
    "store2=[12.35,4.2,7,4,23.2]\n",
    "cheapest=map(min,store1,store2)"
   ]
  },
  {
   "cell_type": "code",
   "execution_count": 108,
   "metadata": {},
   "outputs": [
    {
     "data": {
      "text/plain": [
       "<map at 0x5201860>"
      ]
     },
     "execution_count": 108,
     "metadata": {},
     "output_type": "execute_result"
    }
   ],
   "source": [
    "cheapest"
   ]
  },
  {
   "cell_type": "code",
   "execution_count": 109,
   "metadata": {},
   "outputs": [
    {
     "name": "stdout",
     "output_type": "stream",
     "text": [
      "12.35\n",
      "4.2\n",
      "7\n",
      "4\n",
      "21.2\n"
     ]
    }
   ],
   "source": [
    "for item in cheapest:\n",
    "    print(item)"
   ]
  },
  {
   "cell_type": "markdown",
   "metadata": {},
   "source": [
    "## 07 Lambda Function"
   ]
  },
  {
   "cell_type": "code",
   "execution_count": 110,
   "metadata": {},
   "outputs": [],
   "source": [
    "my_function=lambda a,b,c:a+b+c\n"
   ]
  },
  {
   "cell_type": "code",
   "execution_count": 111,
   "metadata": {},
   "outputs": [
    {
     "data": {
      "text/plain": [
       "6"
      ]
     },
     "execution_count": 111,
     "metadata": {},
     "output_type": "execute_result"
    }
   ],
   "source": [
    "my_function(1,2,3)"
   ]
  },
  {
   "cell_type": "code",
   "execution_count": 119,
   "metadata": {},
   "outputs": [],
   "source": [
    "my_list=[x for x in range(1,101) if(x%2==0)]"
   ]
  },
  {
   "cell_type": "code",
   "execution_count": 120,
   "metadata": {},
   "outputs": [
    {
     "data": {
      "text/plain": [
       "[2,\n",
       " 4,\n",
       " 6,\n",
       " 8,\n",
       " 10,\n",
       " 12,\n",
       " 14,\n",
       " 16,\n",
       " 18,\n",
       " 20,\n",
       " 22,\n",
       " 24,\n",
       " 26,\n",
       " 28,\n",
       " 30,\n",
       " 32,\n",
       " 34,\n",
       " 36,\n",
       " 38,\n",
       " 40,\n",
       " 42,\n",
       " 44,\n",
       " 46,\n",
       " 48,\n",
       " 50,\n",
       " 52,\n",
       " 54,\n",
       " 56,\n",
       " 58,\n",
       " 60,\n",
       " 62,\n",
       " 64,\n",
       " 66,\n",
       " 68,\n",
       " 70,\n",
       " 72,\n",
       " 74,\n",
       " 76,\n",
       " 78,\n",
       " 80,\n",
       " 82,\n",
       " 84,\n",
       " 86,\n",
       " 88,\n",
       " 90,\n",
       " 92,\n",
       " 94,\n",
       " 96,\n",
       " 98,\n",
       " 100]"
      ]
     },
     "execution_count": 120,
     "metadata": {},
     "output_type": "execute_result"
    }
   ],
   "source": [
    "my_list"
   ]
  },
  {
   "cell_type": "code",
   "execution_count": 1,
   "metadata": {},
   "outputs": [
    {
     "ename": "NameError",
     "evalue": "name 'np' is not defined",
     "output_type": "error",
     "traceback": [
      "\u001b[1;31m---------------------------------------------------------------------------\u001b[0m",
      "\u001b[1;31mNameError\u001b[0m                                 Traceback (most recent call last)",
      "\u001b[1;32m<ipython-input-1-83b45d98364f>\u001b[0m in \u001b[0;36m<module>\u001b[1;34m()\u001b[0m\n\u001b[1;32m----> 1\u001b[1;33m \u001b[0mn\u001b[0m\u001b[1;33m=\u001b[0m\u001b[0mnp\u001b[0m\u001b[1;33m.\u001b[0m\u001b[0marange\u001b[0m\u001b[1;33m(\u001b[0m\u001b[1;36m0\u001b[0m\u001b[1;33m,\u001b[0m\u001b[1;36m30\u001b[0m\u001b[1;33m,\u001b[0m\u001b[1;36m2\u001b[0m\u001b[1;33m)\u001b[0m\u001b[1;33m\u001b[0m\u001b[0m\n\u001b[0m",
      "\u001b[1;31mNameError\u001b[0m: name 'np' is not defined"
     ]
    }
   ],
   "source": []
  },
  {
   "cell_type": "code",
   "execution_count": 1,
   "metadata": {},
   "outputs": [
    {
     "ename": "NameError",
     "evalue": "name 'np' is not defined",
     "output_type": "error",
     "traceback": [
      "\u001b[1;31m---------------------------------------------------------------------------\u001b[0m",
      "\u001b[1;31mNameError\u001b[0m                                 Traceback (most recent call last)",
      "\u001b[1;32m<ipython-input-1-83b45d98364f>\u001b[0m in \u001b[0;36m<module>\u001b[1;34m()\u001b[0m\n\u001b[1;32m----> 1\u001b[1;33m \u001b[0mn\u001b[0m\u001b[1;33m=\u001b[0m\u001b[0mnp\u001b[0m\u001b[1;33m.\u001b[0m\u001b[0marange\u001b[0m\u001b[1;33m(\u001b[0m\u001b[1;36m0\u001b[0m\u001b[1;33m,\u001b[0m\u001b[1;36m30\u001b[0m\u001b[1;33m,\u001b[0m\u001b[1;36m2\u001b[0m\u001b[1;33m)\u001b[0m\u001b[1;33m\u001b[0m\u001b[0m\n\u001b[0m",
      "\u001b[1;31mNameError\u001b[0m: name 'np' is not defined"
     ]
    }
   ],
   "source": []
  },
  {
   "cell_type": "code",
   "execution_count": null,
   "metadata": {},
   "outputs": [],
   "source": []
  }
 ],
 "metadata": {
  "kernelspec": {
   "display_name": "Python 3",
   "language": "python",
   "name": "python3"
  },
  "language_info": {
   "codemirror_mode": {
    "name": "ipython",
    "version": 3
   },
   "file_extension": ".py",
   "mimetype": "text/x-python",
   "name": "python",
   "nbconvert_exporter": "python",
   "pygments_lexer": "ipython3",
   "version": "3.6.5"
  }
 },
 "nbformat": 4,
 "nbformat_minor": 2
}
